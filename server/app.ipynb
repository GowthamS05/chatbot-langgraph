{
 "cells": [
  {
   "cell_type": "code",
   "execution_count": 3,
   "metadata": {},
   "outputs": [],
   "source": [
    "from typing import TypedDict , Annotated , Optional\n",
    "from langgraph.graph import add_messages, StateGraph , END\n",
    "from langchain_openai import ChatOpenAI\n",
    "from dotenv import load_dotenv\n",
    "from langchain_community.tools.tavily_search import TavilySearchResults\n",
    "from langgraph.checkpoint.memory import MemorySaver\n",
    "from uuid import uuid4\n",
    "import json\n",
    "from langchain_groq import ChatGroq\n",
    "\n",
    "\n",
    "load_dotenv()\n",
    "# model = ChatGroq(model=\"llama-3.1-8b-instant\")\n",
    "model = ChatOpenAI(model=\"gpt-4o-mini\", temperature=0.0)\n"
   ]
  },
  {
   "cell_type": "code",
   "execution_count": null,
   "metadata": {},
   "outputs": [],
   "source": [
    "search_tool = TavilySearchResults(max_results=4)\n"
   ]
  },
  {
   "cell_type": "code",
   "execution_count": null,
   "metadata": {},
   "outputs": [
    {
     "name": "stdout",
     "output_type": "stream",
     "text": [
      "content='' additional_kwargs={'tool_calls': [{'id': 'call_eMGwbVwo271Qybmk6XamESHg', 'function': {'arguments': '{\"query\":\"current weather in Chennai\"}', 'name': 'tavily_search_results_json'}, 'type': 'function'}], 'refusal': None} response_metadata={'token_usage': {'completion_tokens': 22, 'prompt_tokens': 86, 'total_tokens': 108, 'completion_tokens_details': {'accepted_prediction_tokens': 0, 'audio_tokens': 0, 'reasoning_tokens': 0, 'rejected_prediction_tokens': 0}, 'prompt_tokens_details': {'audio_tokens': 0, 'cached_tokens': 0}}, 'model_name': 'gpt-4o-mini-2024-07-18', 'system_fingerprint': 'fp_dbaca60df0', 'id': 'chatcmpl-BUoZvxgTn7tXrl38PK9erb85W1voC', 'service_tier': 'default', 'finish_reason': 'tool_calls', 'logprobs': None} id='run--a2b42c0b-2334-48ff-94c8-eabce0ad7dce-0' tool_calls=[{'name': 'tavily_search_results_json', 'args': {'query': 'current weather in Chennai'}, 'id': 'call_eMGwbVwo271Qybmk6XamESHg', 'type': 'tool_call'}] usage_metadata={'input_tokens': 86, 'output_tokens': 22, 'total_tokens': 108, 'input_token_details': {'audio': 0, 'cache_read': 0}, 'output_token_details': {'audio': 0, 'reasoning': 0}}\n"
     ]
    }
   ],
   "source": [
    "tools=[search_tool]\n",
    "memory = MemorySaver()\n",
    "\n",
    "llm_with_tools = model.bind_tools(tools)\n",
    "\n"
   ]
  },
  {
   "cell_type": "code",
   "execution_count": 7,
   "metadata": {},
   "outputs": [],
   "source": [
    "from langchain_core.messages import AIMessage, HumanMessage, ToolMessage\n",
    "\n",
    "class State(TypedDict):\n",
    "    messages: Annotated[list, add_messages]\n",
    "\n",
    "async def model(state: State):\n",
    "    result = await llm_with_tools.ainvoke(state[\"messages\"])\n",
    "    return {\n",
    "        \"messages\": [result], \n",
    "    }\n",
    "\n",
    "async def tools_router(state: State):\n",
    "    last_message = state[\"messages\"][-1]\n",
    "\n",
    "    if(hasattr(last_message, \"tool_calls\") and len(last_message.tool_calls) > 0):\n",
    "        return \"tool_node\"\n",
    "    else: \n",
    "        return END\n",
    "    \n",
    "async def tool_node(state):\n",
    "    \"\"\"Custom tool node that handles tool calls from the LLM.\"\"\"\n",
    "    # Get the tool calls from the last message\n",
    "    tool_calls = state[\"messages\"][-1].tool_calls\n",
    "    \n",
    "    # Initialize list to store tool messages\n",
    "    tool_messages = []\n",
    "    \n",
    "    # Process each tool call\n",
    "    for tool_call in tool_calls:\n",
    "        tool_name = tool_call[\"name\"]\n",
    "        tool_args = tool_call[\"args\"]\n",
    "        tool_id = tool_call[\"id\"]\n",
    "        \n",
    "        # Handle the search tool\n",
    "        if tool_name == \"tavily_search_results_json\":\n",
    "            # Execute the search tool with the provided arguments\n",
    "            search_results = await search_tool.ainvoke(tool_args)\n",
    "            \n",
    "            # Create a ToolMessage for this result\n",
    "            tool_message = ToolMessage(\n",
    "                content=str(search_results),\n",
    "                tool_call_id=tool_id,\n",
    "                name=tool_name\n",
    "            )\n",
    "            \n",
    "            tool_messages.append(tool_message)\n",
    "    \n",
    "    # Add the tool messages to the state\n",
    "    return {\"messages\": tool_messages}\n",
    "\n",
    "graph_builder = StateGraph(State)\n",
    "\n",
    "graph_builder.add_node(\"model\", model)\n",
    "graph_builder.add_node(\"tool_node\", tool_node)\n",
    "graph_builder.set_entry_point(\"model\")\n",
    "\n",
    "graph_builder.add_conditional_edges(\"model\", tools_router)\n",
    "graph_builder.add_edge(\"tool_node\", \"model\")\n",
    "\n",
    "graph = graph_builder.compile(checkpointer=memory)\n"
   ]
  },
  {
   "cell_type": "code",
   "execution_count": 8,
   "metadata": {},
   "outputs": [
    {
     "data": {
      "image/png": "[encoded data removed]",
      "text/plain": [
       "<IPython.core.display.Image object>"
      ]
     },
     "metadata": {},
     "output_type": "display_data"
    }
   ],
   "source": [
    "from IPython.display import Image, display\n",
    "from langchain_core.runnables.graph import MermaidDrawMethod\n",
    "\n",
    "display(\n",
    "    Image(\n",
    "        graph.get_graph().draw_mermaid_png(\n",
    "            draw_method=MermaidDrawMethod.API\n",
    "        )\n",
    "    )\n",
    ")"
   ]
  },
  {
   "cell_type": "code",
   "execution_count": 11,
   "metadata": {},
   "outputs": [
    {
     "data": {
      "text/plain": [
       "{'messages': [HumanMessage(content='Hi i am Harish', additional_kwargs={}, response_metadata={}, id='aa45340c-2418-4ef2-a776-4b8203c56e03'),\n",
       "  AIMessage(content='Hello Harish! How can I assist you today?', additional_kwargs={'refusal': None}, response_metadata={'token_usage': {'completion_tokens': 13, 'prompt_tokens': 84, 'total_tokens': 97, 'completion_tokens_details': {'accepted_prediction_tokens': 0, 'audio_tokens': 0, 'reasoning_tokens': 0, 'rejected_prediction_tokens': 0}, 'prompt_tokens_details': {'audio_tokens': 0, 'cached_tokens': 0}}, 'model_name': 'gpt-4o-mini-2024-07-18', 'system_fingerprint': 'fp_dbaca60df0', 'id': 'chatcmpl-BUof5FkWGhCELCzx7zATI7lZ3kR3V', 'service_tier': 'default', 'finish_reason': 'stop', 'logprobs': None}, id='run--88976497-dab1-4fac-8598-fe45f4ad5395-0', usage_metadata={'input_tokens': 84, 'output_tokens': 13, 'total_tokens': 97, 'input_token_details': {'audio': 0, 'cache_read': 0}, 'output_token_details': {'audio': 0, 'reasoning': 0}}),\n",
       "  HumanMessage(content='What is my name', additional_kwargs={}, response_metadata={}, id='8998226e-dc8b-412a-97ab-f1711d64c8db'),\n",
       "  AIMessage(content='Your name is Harish. How can I help you further?', additional_kwargs={'refusal': None}, response_metadata={'token_usage': {'completion_tokens': 15, 'prompt_tokens': 107, 'total_tokens': 122, 'completion_tokens_details': {'accepted_prediction_tokens': 0, 'audio_tokens': 0, 'reasoning_tokens': 0, 'rejected_prediction_tokens': 0}, 'prompt_tokens_details': {'audio_tokens': 0, 'cached_tokens': 0}}, 'model_name': 'gpt-4o-mini-2024-07-18', 'system_fingerprint': 'fp_dbaca60df0', 'id': 'chatcmpl-BUofKnZ99mbhWLatUiXU9VMEpxcCz', 'service_tier': 'default', 'finish_reason': 'stop', 'logprobs': None}, id='run--baa64648-016d-4866-b53b-01ed419d1a68-0', usage_metadata={'input_tokens': 107, 'output_tokens': 15, 'total_tokens': 122, 'input_token_details': {'audio': 0, 'cache_read': 0}, 'output_token_details': {'audio': 0, 'reasoning': 0}}),\n",
       "  HumanMessage(content='When is the next langgraph conference?', additional_kwargs={}, response_metadata={}, id='c779a408-4f92-4a63-9b50-106ccf9d6fae'),\n",
       "  AIMessage(content='', additional_kwargs={'tool_calls': [{'id': 'call_QC4VRDtev1Ahx5lfuKTrCGLE', 'function': {'arguments': '{\"query\":\"next LangGraph conference 2023\"}', 'name': 'tavily_search_results_json'}, 'type': 'function'}], 'refusal': None}, response_metadata={'token_usage': {'completion_tokens': 25, 'prompt_tokens': 136, 'total_tokens': 161, 'completion_tokens_details': {'accepted_prediction_tokens': 0, 'audio_tokens': 0, 'reasoning_tokens': 0, 'rejected_prediction_tokens': 0}, 'prompt_tokens_details': {'audio_tokens': 0, 'cached_tokens': 0}}, 'model_name': 'gpt-4o-mini-2024-07-18', 'system_fingerprint': 'fp_dbaca60df0', 'id': 'chatcmpl-BUofc6tyHsjttorwa6UoG39ZOyoyf', 'service_tier': 'default', 'finish_reason': 'tool_calls', 'logprobs': None}, id='run--b5019bd1-9bd4-4e90-af36-6a866e1ebdee-0', tool_calls=[{'name': 'tavily_search_results_json', 'args': {'query': 'next LangGraph conference 2023'}, 'id': 'call_QC4VRDtev1Ahx5lfuKTrCGLE', 'type': 'tool_call'}], usage_metadata={'input_tokens': 136, 'output_tokens': 25, 'total_tokens': 161, 'input_token_details': {'audio': 0, 'cache_read': 0}, 'output_token_details': {'audio': 0, 'reasoning': 0}}),\n",
       "  ToolMessage(content='[{\\'title\\': \\'LangGraph: The Future of Production-Ready AI Agents\\', \\'url\\': \\'https://opendatascience.com/langgraph-the-future-of-production-ready-ai-agents/\\', \\'content\\': \\'Machine Learning~111~Azure~69~East 2022~65~ODSC East 2015|Speaker Slides~64~East 2024~58~Podcast~53~West 2024~51~Microsoft~49~West 2022~49~Deep Learning~48~East 2020~48~East 2023~47~West 2021~46~Accelerate AI~43~East 2021~42~Conferences~41~West 2023~40~Europe 2020~39~Europe 2021~38~cybersecurity~37~\\\\nODSC Privacy Policy\\\\nView ODSC Privacy Policy\\\\nCopyright Open Data Science 2025. All Rights Reserved [...] Tags\\\\nMachine Learning~111~Azure~69~East 2022~65~ODSC East 2015|Speaker Slides~64~East 2024~58~Podcast~53~West 2024~51~Microsoft~49~West 2022~49~Deep Learning~48~East 2020~48~East 2023~47~West 2021~46~Accelerate AI~43~East 2021~42~Conferences~41~West 2023~40~Europe 2020~39~Europe 2021~38~cybersecurity~37~\\\\nRelated posts\\\\n\\\\n Evaluating Agent Tool Selection - Testing if First…\\\\n AI Mastery 2025: Skills to Stay Ahead in the Next Wave\\\\n Announcing the First Speakers & Updates for the ODSC…\\\\n\\\\nAbout us [...] This blog post has only scratched the surface of what’s possible with LangGraph. If you’re interested in learning more, I’ll be diving deeper into advanced LangGraph techniques in my upcoming session at ODSC. We’ll explore how to implement complex agent architectures and leverage the full power of LLMs within a controlled environment.\\\\nStay tuned for more updates, and I hope to see you at ODSC where we’ll take your LangGraph skills to the next level!\\\\nAuthor Bio:\\', \\'score\\': 0.4119392}, {\\'title\\': \\'LangGraph:17 Introduction to Multi-Agent System #llm ... - YouTube\\', \\'url\\': \\'https://www.youtube.com/watch?v=cydntJObPLI\\', \\'content\\': \\'name is a chain of thoughts so chain of thought prompting before the llm sorry before the agents if you will look see just look into the date so what is the date here 10th of january 2023 okay i think uh at at this time itself the chat gpd was launched right and there was several research was going on parallelly right parallelly with respect to this llm model and all how we can use it effectively so this paper was released chain of thoughts prompting now what is the use of it what is the use of [...] next part along with it guys uh one more research paper was there the research paper name was the tree of thoughts okay this tree of thought actually it was released in december 23 now again this tree of thought basically it was much aligned to the prompting technique okay but in a hierarchical way right now whatever multi-agentric system you can see nowadays see i told you what is a chain of thoughts and what is a react agent okay the react flow so they have they took one more step ahead and [...] give you the basic or the low-level understanding how better this prompting could work right so just just go through with this particular research paper you will uh understand many more thing then guys there is one more research paper which was introduced after this research paper the research paper name was the react okay reasoning and action so this was introduced in march 2020 march 2023 okay so inside this research paper again they were talking about the prompting itself right how basically\\', \\'score\\': 0.3929895}, {\\'title\\': \\'Agenda - Interrupt - LangChain\\', \\'url\\': \\'https://interrupt.langchain.com/agenda\\', \\'content\\': \"Eno Reyes\\\\n\\\\nBreakthrough Agents: Building Our Digital Workforce with LangGraph\\\\n\\\\nâ\\\\x80\\\\x8d\\\\n\\\\nAssaf Elovic\\\\n\\\\nBreakthrough Agents: Building and Scaling an AI Agent During HyperGrowth\\\\n\\\\nâ\\\\x80\\\\x8d\\\\n\\\\nSherwood Callaway\\\\n\\\\nKeith Fearon\\\\n\\\\nPrabhav Jain\\\\n\\\\nBreak\\\\n\\\\nâ\\\\x80\\\\x8d\\\\n\\\\nUnlocking Agent Creation: LangGraph in Action at Box\\\\n\\\\nâ\\\\x80\\\\x8d\\\\n\\\\nBen Kus\\\\n\\\\nFrom LLMs to Agents: The Next Leap\\\\n\\\\nâ\\\\x80\\\\x8d\\\\n\\\\nAdam D\\'Angelo\\\\n\\\\nHarrison Chase\\\\n\\\\nClosing Reception (Sponsored by DataStax)\\\\n\\\\nâ\\\\x80\\\\x8d\\\\n\\\\nCarlos Pereira [...] Sayantan Mukhopadhyay\\\\n\\\\nBreak\\\\n\\\\nâ\\\\x80\\\\x8d\\\\n\\\\nFrom Pilot to Platform: Agents at Scale\\\\n\\\\nâ\\\\x80\\\\x8d\\\\n\\\\nDavid Tag\\\\n\\\\nFrom Pilot to Platform: Aladdin Copilot\\\\n\\\\nâ\\\\x80\\\\x8d\\\\n\\\\nPedro Vicente-Valdez\\\\n\\\\nBrennan Rosales\\\\n\\\\nFrom Pilot to Platform: Agentic Developer Products with LangGraph\\\\n\\\\nâ\\\\x80\\\\x8d\\\\n\\\\nSourabh Shirhatti\\\\n\\\\nMatas Rastenis\\\\n\\\\nState of Agents\\\\n\\\\nâ\\\\x80\\\\x8d\\\\n\\\\nAndrew Ng\\\\n\\\\nHarrison Chase\\\\n\\\\nBreak\\\\n\\\\nâ\\\\x80\\\\x8d\\\\n\\\\nBreakthrough Agents: Understanding Our Customers\\' TAM\\\\n\\\\nâ\\\\x80\\\\x8d\\\\n\\\\nConnor Heggie\\\\n\\\\nKunal Rai\\\\n\\\\nBreakthrough Agents: Building Reliable Agentic Systems\\\\n\\\\nâ\\\\x80\\\\x8d\", \\'score\\': 0.36357963}, {\\'title\\': \\'Generative AI with LangChain and LangGraph 2025 - 10Times\\', \\'url\\': \\'https://10times.com/e1dr-0kp9-xg54-s\\', \\'content\\': \\'This event aims to delve into the innovative applications of Generative AI, specifically focusing on the frameworks of LangChain and LangGraph.\\', \\'score\\': 0.3044556}]', name='tavily_search_results_json', id='19e6af66-789b-4a4b-8b70-32b7e90e06f7', tool_call_id='call_QC4VRDtev1Ahx5lfuKTrCGLE'),\n",
       "  AIMessage(content=\"It seems that there isn't a specific date mentioned for the next LangGraph conference in the search results. However, you can find more information about LangGraph and related events on the following links:\\n\\n1. [LangGraph: The Future of Production-Ready AI Agents](https://opendatascience.com/langgraph-the-future-of-production-ready-ai-agents/)\\n2. [Generative AI with LangChain and LangGraph 2025](https://10times.com/e1dr-0kp9-xg54-s)\\n\\nIf you need more specific details or updates, I recommend checking the official websites or social media channels related to LangGraph.\", additional_kwargs={'refusal': None}, response_metadata={'token_usage': {'completion_tokens': 131, 'prompt_tokens': 1486, 'total_tokens': 1617, 'completion_tokens_details': {'accepted_prediction_tokens': 0, 'audio_tokens': 0, 'reasoning_tokens': 0, 'rejected_prediction_tokens': 0}, 'prompt_tokens_details': {'audio_tokens': 0, 'cached_tokens': 0}}, 'model_name': 'gpt-4o-mini-2024-07-18', 'system_fingerprint': 'fp_dbaca60df0', 'id': 'chatcmpl-BUofgHcXjV1krdOMnPZQZIAVXbj25', 'service_tier': 'default', 'finish_reason': 'stop', 'logprobs': None}, id='run--eb5082e4-2657-4ece-b8f0-222a8aa99b10-0', usage_metadata={'input_tokens': 1486, 'output_tokens': 131, 'total_tokens': 1617, 'input_token_details': {'audio': 0, 'cache_read': 0}, 'output_token_details': {'audio': 0, 'reasoning': 0}})]}"
      ]
     },
     "execution_count": 11,
     "metadata": {},
     "output_type": "execute_result"
    }
   ],
   "source": [
    "config = {\n",
    "    \"configurable\": {\n",
    "        \"thread_id\": 5\n",
    "    }\n",
    "}\n",
    "\n",
    "response = await graph.ainvoke({\n",
    "    \"messages\": [HumanMessage(content=\"When is the next langgraph conference?\")], \n",
    "}, config=config)\n",
    "\n",
    "response"
   ]
  },
  {
   "cell_type": "code",
   "execution_count": 13,
   "metadata": {},
   "outputs": [
    {
     "name": "stdout",
     "output_type": "stream",
     "text": [
      "The next SpaceX launch is scheduled for **April 1, 2024**, at **7:30 PM PDT**. This will be a Falcon 9 rocket launch carrying the Starlink Group 7-18 mission from Vandenberg Space Force Station in California.\n",
      "\n",
      "For more details, you can check the [SpaceX Launch Schedule](https://earthsky.org/spaceflight/spacex-starlink-launches-april-2024/)."
     ]
    }
   ],
   "source": [
    "config = {\n",
    "    \"configurable\": {\n",
    "        \"thread_id\": 8\n",
    "    }\n",
    "}\n",
    "\n",
    "# Use async for to iterate over the async generator\n",
    "events=graph.astream_events({\n",
    "    \"messages\": [HumanMessage(content=\"When is the next spacex launch?\")],\n",
    "}, config=config, version=\"v2\")\n",
    "\n",
    "\n",
    "async for event in events: \n",
    "    if event[\"event\"] == \"on_chat_model_stream\":\n",
    "        print(event[\"data\"][\"chunk\"].content, end=\"\", flush=True)"
   ]
  }
 ],
 "metadata": {
  "kernelspec": {
   "display_name": "venv",
   "language": "python",
   "name": "python3"
  },
  "language_info": {
   "codemirror_mode": {
    "name": "ipython",
    "version": 3
   },
   "file_extension": ".py",
   "mimetype": "text/x-python",
   "name": "python",
   "nbconvert_exporter": "python",
   "pygments_lexer": "ipython3",
   "version": "3.13.3"
  }
 },
 "nbformat": 4,
 "nbformat_minor": 2
}
